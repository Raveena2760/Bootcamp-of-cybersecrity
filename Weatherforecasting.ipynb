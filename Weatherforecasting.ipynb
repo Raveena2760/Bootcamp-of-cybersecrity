{
  "nbformat": 4,
  "nbformat_minor": 0,
  "metadata": {
    "colab": {
      "name": "Weatherforecasting.ipynb",
      "provenance": []
    },
    "kernelspec": {
      "name": "python3",
      "display_name": "Python 3"
    },
    "language_info": {
      "name": "python"
    }
  },
  "cells": [
    {
      "cell_type": "code",
      "metadata": {
        "id": "PkDOvTEHkiI5"
      },
      "source": [
        "import requests\n",
        "from datetime import datetime"
      ],
      "execution_count": 2,
      "outputs": []
    },
    {
      "cell_type": "code",
      "metadata": {
        "colab": {
          "base_uri": "https://localhost:8080/"
        },
        "id": "kVekC62mkrSL",
        "outputId": "50be390a-cd35-45c5-d826-bdd319dec083"
      },
      "source": [
        "api_key = '87d845b0b6cf29baa1a73cc34b067a95'\n",
        "location = input(\"Enter the city name: \")"
      ],
      "execution_count": 3,
      "outputs": [
        {
          "output_type": "stream",
          "text": [
            "Enter the city name: Chennai\n"
          ],
          "name": "stdout"
        }
      ]
    },
    {
      "cell_type": "code",
      "metadata": {
        "id": "eoSzbNOskryK"
      },
      "source": [
        "complete_api_link = \"https://api.openweathermap.org/data/2.5/weather?q=\"+location+\"&appid=\"+api_key\n",
        "api_link = requests.get(complete_api_link)\n",
        "api_data = api_link.json()\n"
      ],
      "execution_count": 4,
      "outputs": []
    },
    {
      "cell_type": "code",
      "metadata": {
        "id": "f3BBSDKVkzEl"
      },
      "source": [
        "temp_city = ((api_data['main']['temp']) - 273.15)\n",
        "weather_desc = api_data['weather'][0]['description']\n",
        "hmdt = api_data['main']['humidity']\n",
        "wind_spd = api_data['wind']['speed']\n",
        "date_time = datetime.now().strftime(\"%d %b %Y | %I:%M:%S %p\")\n"
      ],
      "execution_count": 5,
      "outputs": []
    },
    {
      "cell_type": "code",
      "metadata": {
        "colab": {
          "base_uri": "https://localhost:8080/"
        },
        "id": "HjkkaZOwk8Xx",
        "outputId": "2960aae0-e247-476a-ce0a-562ccd8a8573"
      },
      "source": [
        "print (\"-------------------------------------------------------------\")\n",
        "print (\"Weather Stats for - {}  || {}\".format(location.upper(), date_time))\n",
        "print (\"-------------------------------------------------------------\")\n",
        "\n",
        "print (\"Current temperature is: {:.2f} deg C\".format(temp_city))\n",
        "print (\"Current weather desc  :\",weather_desc)\n",
        "print (\"Current Humidity      :\",hmdt, '%')\n",
        "print (\"Current wind speed    :\",wind_spd ,'kmph') \n"
      ],
      "execution_count": 7,
      "outputs": [
        {
          "output_type": "stream",
          "text": [
            "-------------------------------------------------------------\n",
            "Weather Stats for - CHENNAI  || 24 Jun 2021 | 05:53:44 AM\n",
            "-------------------------------------------------------------\n",
            "Current temperature is: 32.20 deg C\n",
            "Current weather desc  : scattered clouds\n",
            "Current Humidity      : 66 %\n",
            "Current wind speed    : 3.58 kmph\n"
          ],
          "name": "stdout"
        }
      ]
    }
  ]
}